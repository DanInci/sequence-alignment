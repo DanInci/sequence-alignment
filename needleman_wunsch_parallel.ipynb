{
  "nbformat": 4,
  "nbformat_minor": 0,
  "metadata": {
    "colab": {
      "name": "needleman_wunsch_parallel.ipynb",
      "provenance": [],
      "collapsed_sections": []
    },
    "kernelspec": {
      "name": "python3",
      "display_name": "Python 3"
    },
    "language_info": {
      "name": "python"
    },
    "accelerator": "GPU"
  },
  "cells": [
    {
      "cell_type": "code",
      "metadata": {
        "colab": {
          "base_uri": "https://localhost:8080/"
        },
        "id": "ypiNf-KFNVxE",
        "outputId": "4c46b68d-53d5-4594-f59d-9a49e50d1f68"
      },
      "source": [
        "!git clone https://github.com/DanInci/sequence-alignment.git\n",
        "%cd sequence-alignment"
      ],
      "execution_count": 1,
      "outputs": [
        {
          "output_type": "stream",
          "text": [
            "Cloning into 'sequence-alignment'...\n",
            "remote: Enumerating objects: 63, done.\u001b[K\n",
            "remote: Counting objects: 100% (63/63), done.\u001b[K\n",
            "remote: Compressing objects: 100% (40/40), done.\u001b[K\n",
            "remote: Total 63 (delta 20), reused 62 (delta 19), pack-reused 0\u001b[K\n",
            "Unpacking objects: 100% (63/63), done.\n",
            "/content/sequence-alignment\n"
          ],
          "name": "stdout"
        }
      ]
    },
    {
      "cell_type": "code",
      "metadata": {
        "id": "m7sFMbBsN4fD"
      },
      "source": [
        "!gcc -o ./needleman_wunsch needleman_wunsch.c"
      ],
      "execution_count": null,
      "outputs": []
    },
    {
      "cell_type": "code",
      "metadata": {
        "id": "srWr335QOSZl"
      },
      "source": [
        "!gcc -o ./needleman_wunsch.omp -fopenmp needleman_wunsch.omp.c"
      ],
      "execution_count": null,
      "outputs": []
    },
    {
      "cell_type": "code",
      "metadata": {
        "colab": {
          "base_uri": "https://localhost:8080/"
        },
        "id": "iKnduKTSOYqt",
        "outputId": "f77460b6-ec57-4936-ff0f-46f391bf1a4c"
      },
      "source": [
        "!nvcc -arch=sm_37 -dc ./cuda/kernel_functions.cu ./cuda/needleman_wunsch.cu\n",
        "!nvcc -arch=sm_37 -rdc=true kernel_functions.o needleman_wunsch.o -o needleman_wunsch.cuda\n",
        "!rm kernel_functions.o needleman_wunsch.o"
      ],
      "execution_count": 13,
      "outputs": [
        {
          "output_type": "stream",
          "text": [
            "nvcc warning : The 'compute_35', 'compute_37', 'compute_50', 'sm_35', 'sm_37' and 'sm_50' architectures are deprecated, and may be removed in a future release (Use -Wno-deprecated-gpu-targets to suppress warning).\n",
            "nvcc warning : The 'compute_35', 'compute_37', 'compute_50', 'sm_35', 'sm_37' and 'sm_50' architectures are deprecated, and may be removed in a future release (Use -Wno-deprecated-gpu-targets to suppress warning).\n"
          ],
          "name": "stdout"
        }
      ]
    },
    {
      "cell_type": "code",
      "metadata": {
        "colab": {
          "base_uri": "https://localhost:8080/"
        },
        "id": "GLA9y-ezOY_N",
        "outputId": "06da66f0-7203-4ed9-99e1-05168e367e5f"
      },
      "source": [
        "!time ./needleman_wunsch ./input/20000.fasta"
      ],
      "execution_count": 17,
      "outputs": [
        {
          "output_type": "stream",
          "text": [
            "Calculating score matrix ... DONE\n",
            "Constructing alignment ... DONE\n",
            "\n",
            "real\t0m16.587s\n",
            "user\t0m15.461s\n",
            "sys\t0m1.114s\n"
          ],
          "name": "stdout"
        }
      ]
    },
    {
      "cell_type": "code",
      "metadata": {
        "colab": {
          "base_uri": "https://localhost:8080/"
        },
        "id": "UkoNzvIuPpca",
        "outputId": "71e7fbf1-20fa-4b25-b0bc-b3c66194b1f7"
      },
      "source": [
        "# this won't work properly since colab only has one CPU thread available\n",
        "%env OMP_NUM_THREADS=2\n",
        "!time ./needleman_wunsch.omp ./input/20000.fasta"
      ],
      "execution_count": 18,
      "outputs": [
        {
          "output_type": "stream",
          "text": [
            "env: OMP_NUM_THREADS=2\n",
            "Calculating score matrix ... DONE\n",
            "Constructing alignment ... DONE\n",
            "/bin/bash: line 1:   366 Segmentation fault      (core dumped) ./needleman_wunsch.omp ./input/20000.fasta\n",
            "\n",
            "real\t0m16.351s\n",
            "user\t0m30.077s\n",
            "sys\t0m0.941s\n"
          ],
          "name": "stdout"
        }
      ]
    },
    {
      "cell_type": "code",
      "metadata": {
        "colab": {
          "base_uri": "https://localhost:8080/"
        },
        "id": "UGH-lZDCfSqn",
        "outputId": "50139f8a-50cc-4c17-ea1d-c700ddc0bdb1"
      },
      "source": [
        "!time ./needleman_wunsch.cuda ./input/20000.fasta"
      ],
      "execution_count": 16,
      "outputs": [
        {
          "output_type": "stream",
          "text": [
            "Allocating CUDA memory ... DONE\n",
            "Calculating score matrix ... DONE\n",
            "CUDA cleanup ... DONE\n",
            "Constructing alignment ... DONE\n",
            "\n",
            "real\t0m0.562s\n",
            "user\t0m0.240s\n",
            "sys\t0m0.267s\n"
          ],
          "name": "stdout"
        }
      ]
    }
  ]
}